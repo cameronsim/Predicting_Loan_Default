{
 "cells": [
  {
   "cell_type": "markdown",
   "metadata": {},
   "source": [
    "# Goal : To predict whether a loan will be paid off on time or not\n",
    "\n",
    "\n",
    "\n",
    "\n",
    "\n",
    "\n",
    "\n",
    "\n"
   ]
  },
  {
   "cell_type": "markdown",
   "metadata": {},
   "source": [
    "## Notebook structure\n",
    "\n",
    "###  Data Cleaning\n",
    "Prepare data on loans for predictive modeling.\n",
    "\n",
    "### Preparing The Features\n",
    "Exploring and preparing the features for modeling.\n",
    "\n",
    "### Making Predictions\n",
    "Train, test, and iterate on machine learning models."
   ]
  },
  {
   "cell_type": "markdown",
   "metadata": {},
   "source": [
    "## Import libraries"
   ]
  },
  {
   "cell_type": "code",
   "execution_count": 6,
   "metadata": {
    "collapsed": true
   },
   "outputs": [],
   "source": [
    "import pandas as pd\n",
    "import numpy as np\n",
    "import matplotlib.pyplot as plt\n",
    "\n",
    "from sklearn.linear_model import LogisticRegression\n",
    "from sklearn.ensemble import RandomForestClassifier\n",
    "from sklearn.cross_validation import cross_val_predict, KFold\n"
   ]
  },
  {
   "cell_type": "markdown",
   "metadata": {},
   "source": [
    "## Reducing the size of LoanStats3a.csv by:\n",
    "\n",
    "1. Removing the first line: because it contains the extraneous text Notes offered by Prospectus (https://www.lendingclub.com/info/prospectus.action) instead of the column titles, which prevents the dataset from being parsed by the pandas library properly\n",
    "2. Removing the desc column:which contains a long text explanation for each loan\n",
    "3. Removing the url column:which contains a link to each loan on Lending Club which can only be accessed with an investor account\n",
    "4. Removing all columns containing more than 50% missing values:which allows us to move faster since we can spend less time trying to fill these values"
   ]
  },
  {
   "cell_type": "code",
   "execution_count": 12,
   "metadata": {
    "collapsed": false
   },
   "outputs": [
    {
     "name": "stderr",
     "output_type": "stream",
     "text": [
      "/home/ubuntu/anaconda2/lib/python2.7/site-packages/IPython/core/interactiveshell.py:2705: DtypeWarning: Columns (0,47) have mixed types. Specify dtype option on import or set low_memory=False.\n",
      "  interactivity=interactivity, compiler=compiler, result=result)\n"
     ]
    }
   ],
   "source": [
    "loans_2007 = pd.read_csv('LoanStats3a.csv', skiprows=1)\n",
    "half_count = len(loans_2007) / 2\n",
    "loans_2007 = loans_2007.dropna(thresh=half_count, axis=1)\n",
    "loans_2007 = loans_2007.drop(['desc', 'url'],axis=1)\n",
    "loans_2007.to_csv('loans_2007.csv', index=False)"
   ]
  },
  {
   "cell_type": "markdown",
   "metadata": {},
   "source": [
    "## Read into Pandas Dataframe"
   ]
  },
  {
   "cell_type": "code",
   "execution_count": 13,
   "metadata": {
    "collapsed": false
   },
   "outputs": [
    {
     "name": "stderr",
     "output_type": "stream",
     "text": [
      "/home/ubuntu/anaconda2/lib/python2.7/site-packages/IPython/core/interactiveshell.py:2705: DtypeWarning: Columns (0) have mixed types. Specify dtype option on import or set low_memory=False.\n",
      "  interactivity=interactivity, compiler=compiler, result=result)\n"
     ]
    },
    {
     "name": "stdout",
     "output_type": "stream",
     "text": [
      "id                                1077501\n",
      "member_id                      1.2966e+06\n",
      "loan_amnt                            5000\n",
      "funded_amnt                          5000\n",
      "funded_amnt_inv                      4975\n",
      "term                            36 months\n",
      "int_rate                           10.65%\n",
      "installment                        162.87\n",
      "grade                                   B\n",
      "sub_grade                              B2\n",
      "emp_title                             NaN\n",
      "emp_length                      10+ years\n",
      "home_ownership                       RENT\n",
      "annual_inc                          24000\n",
      "verification_status              Verified\n",
      "issue_d                          Dec-2011\n",
      "loan_status                    Fully Paid\n",
      "pymnt_plan                              n\n",
      "purpose                       credit_card\n",
      "title                            Computer\n",
      "zip_code                            860xx\n",
      "addr_state                             AZ\n",
      "dti                                 27.65\n",
      "delinq_2yrs                             0\n",
      "earliest_cr_line                 Jan-1985\n",
      "inq_last_6mths                          1\n",
      "open_acc                                3\n",
      "pub_rec                                 0\n",
      "revol_bal                           13648\n",
      "revol_util                          83.7%\n",
      "total_acc                               9\n",
      "initial_list_status                     f\n",
      "out_prncp                               0\n",
      "out_prncp_inv                           0\n",
      "total_pymnt                       5863.16\n",
      "total_pymnt_inv                   5833.84\n",
      "total_rec_prncp                      5000\n",
      "total_rec_int                      863.16\n",
      "total_rec_late_fee                      0\n",
      "recoveries                              0\n",
      "collection_recovery_fee                 0\n",
      "last_pymnt_d                     Jan-2015\n",
      "last_pymnt_amnt                    171.62\n",
      "last_credit_pull_d               Sep-2016\n",
      "collections_12_mths_ex_med              0\n",
      "policy_code                             1\n",
      "application_type               INDIVIDUAL\n",
      "acc_now_delinq                          0\n",
      "chargeoff_within_12_mths                0\n",
      "delinq_amnt                             0\n",
      "pub_rec_bankruptcies                    0\n",
      "tax_liens                               0\n",
      "Name: 0, dtype: object\n",
      "52\n"
     ]
    }
   ],
   "source": [
    "\n",
    "loans_2007 = pd.read_csv(\"loans_2007.csv\")\n",
    "loans_2007.drop_duplicates()\n",
    "print(loans_2007.iloc[0])\n",
    "print(loans_2007.shape[1])"
   ]
  },
  {
   "cell_type": "markdown",
   "metadata": {},
   "source": [
    "### After analyzing each column, we can conclude that the following features need to be removed:\n",
    "\n",
    "1. id: randomly generated field by Lending Club for unique identification purposes only\n",
    "2. member_id: also a randomly generated field by Lending Club for unique identification purposes only\n",
    "3. funded_amnt: leaks data from the future (after the loan is already started to be funded)\n",
    "4. funded_amnt_inv: also leaks data from the future (after the loan is already started to be funded)\n",
    "5. grade: contains redundant information as the interest rate column (int_rate)\n",
    "6. sub_grade: also contains redundant information as the interest rate column (int_rate)\n",
    "7. emp_title: requires other data and a lot of processing to potentially be useful\n",
    "8. issue_d: leaks data from the future (after the loan is already completed funded)\n"
   ]
  },
  {
   "cell_type": "markdown",
   "metadata": {},
   "source": [
    "#### Lending Club assigns a grade and a sub-grade based on the borrower's interest rate. While the grade and sub_grade values are categorical, the int_rate column contains continuous values, which are better suited for machine learning."
   ]
  },
  {
   "cell_type": "markdown",
   "metadata": {},
   "source": [
    "## First group of features ##"
   ]
  },
  {
   "cell_type": "code",
   "execution_count": 14,
   "metadata": {
    "collapsed": false
   },
   "outputs": [],
   "source": [
    "\n",
    "loans_2007 = loans_2007.drop([\"id\", \"member_id\", \"funded_amnt\", \"funded_amnt_inv\", \"grade\", \"sub_grade\", \"emp_title\", \"issue_d\"], axis=1)\n",
    "\n"
   ]
  },
  {
   "cell_type": "markdown",
   "metadata": {},
   "source": [
    "## Second group of features ##"
   ]
  },
  {
   "cell_type": "markdown",
   "metadata": {},
   "source": [
    "### Within this group of columns, we need to drop the following columns:\n",
    "\n",
    "1. zip_code: redundant with the addr_state column since only the first 3 digits of the 5 digit zip code are visible (which only can be used to identify the state the borrower lives in)\n",
    "2. out_prncp: leaks data from the future, (after the loan already started to be paid off)\n",
    "3. out_prncp_inv: also leaks data from the future, (after the loan already started to be paid off)\n",
    "4. total_pymnt: also leaks data from the future, (after the loan already started to be paid off)\n",
    "5. total_pymnt_inv: also leaks data from the future, (after the loan already started to be paid off)\n",
    "6. total_rec_prncp: also leaks data from the future, (after the loan already started to be paid off)\n"
   ]
  },
  {
   "cell_type": "markdown",
   "metadata": {},
   "source": [
    "#### The out_prncp and out_prncp_inv both describe the outstanding principal amount for a loan, which is the remaining  amount the borrower still owes. These 2 columns as well as the total_pymnt column describe properties of the loan after it's fully funded and started to be paid off. This information isn't available to an investor before the loan is fully funded and we don't want to include it in our model.\n"
   ]
  },
  {
   "cell_type": "code",
   "execution_count": 15,
   "metadata": {
    "collapsed": true
   },
   "outputs": [],
   "source": [
    "loans_2007 = loans_2007.drop([\"zip_code\", \"out_prncp\", \"out_prncp_inv\", \"total_pymnt\", \"total_pymnt_inv\", \"total_rec_prncp\"], axis=1)\n",
    "\n"
   ]
  },
  {
   "cell_type": "markdown",
   "metadata": {},
   "source": [
    "\n",
    "## Third group of features ##\n"
   ]
  },
  {
   "cell_type": "markdown",
   "metadata": {},
   "source": [
    "### All of these columns in this group leak data from the future, meaning that they're describing aspects of the loan after it's already been fully funded and started to be paid off by the borrower, we need to drop the following columns:\n",
    "\n",
    "1. total_rec_int: leaks data from the future, (after the loan already started to be paid off),\n",
    "2. total_rec_late_fee: also leaks data from the future, (after the loan already started to be paid off),\n",
    "3. recoveries: also leaks data from the future, (after the loan already started to be paid off),\n",
    "4. collection_recovery_fee: also leaks data from the future, (after the loan already started to be paid off),\n",
    "5. last_pymnt_d: also leaks data from the future, (after the loan already started to be paid off),\n",
    "6. last_pymnt_amnt: also leaks data from the future, (after the loan already started to be paid off).\n"
   ]
  },
  {
   "cell_type": "code",
   "execution_count": 16,
   "metadata": {
    "collapsed": false
   },
   "outputs": [
    {
     "name": "stdout",
     "output_type": "stream",
     "text": [
      "loan_amnt                            5000\n",
      "term                            36 months\n",
      "int_rate                           10.65%\n",
      "installment                        162.87\n",
      "emp_length                      10+ years\n",
      "home_ownership                       RENT\n",
      "annual_inc                          24000\n",
      "verification_status              Verified\n",
      "loan_status                    Fully Paid\n",
      "pymnt_plan                              n\n",
      "purpose                       credit_card\n",
      "title                            Computer\n",
      "addr_state                             AZ\n",
      "dti                                 27.65\n",
      "delinq_2yrs                             0\n",
      "earliest_cr_line                 Jan-1985\n",
      "inq_last_6mths                          1\n",
      "open_acc                                3\n",
      "pub_rec                                 0\n",
      "revol_bal                           13648\n",
      "revol_util                          83.7%\n",
      "total_acc                               9\n",
      "initial_list_status                     f\n",
      "last_credit_pull_d               Sep-2016\n",
      "collections_12_mths_ex_med              0\n",
      "policy_code                             1\n",
      "application_type               INDIVIDUAL\n",
      "acc_now_delinq                          0\n",
      "chargeoff_within_12_mths                0\n",
      "delinq_amnt                             0\n",
      "pub_rec_bankruptcies                    0\n",
      "tax_liens                               0\n",
      "Name: 0, dtype: object\n",
      "32\n"
     ]
    }
   ],
   "source": [
    "loans_2007 = loans_2007.drop([\"total_rec_int\", \"total_rec_late_fee\", \"recoveries\", \"collection_recovery_fee\", \"last_pymnt_d\", \"last_pymnt_amnt\"], axis=1)\n",
    "print(loans_2007.iloc[0])\n",
    "print(loans_2007.shape[1])"
   ]
  },
  {
   "cell_type": "markdown",
   "metadata": {},
   "source": [
    "## Target column ##"
   ]
  },
  {
   "cell_type": "code",
   "execution_count": 17,
   "metadata": {
    "collapsed": false
   },
   "outputs": [
    {
     "name": "stdout",
     "output_type": "stream",
     "text": [
      "Fully Paid                                             33586\n",
      "Charged Off                                             5653\n",
      "Does not meet the credit policy. Status:Fully Paid      1988\n",
      "Does not meet the credit policy. Status:Charged Off      761\n",
      "Current                                                  513\n",
      "In Grace Period                                           16\n",
      "Late (31-120 days)                                        12\n",
      "Late (16-30 days)                                          5\n",
      "Default                                                    1\n",
      "Name: loan_status, dtype: int64\n"
     ]
    }
   ],
   "source": [
    "print(loans_2007['loan_status'].value_counts())"
   ]
  },
  {
   "cell_type": "markdown",
   "metadata": {},
   "source": [
    "## Binary classification ##"
   ]
  },
  {
   "cell_type": "code",
   "execution_count": 18,
   "metadata": {
    "collapsed": true
   },
   "outputs": [],
   "source": [
    "\n",
    "loans_2007 = loans_2007[(loans_2007['loan_status'] == \"Fully Paid\") | (loans_2007['loan_status'] == \"Charged Off\")]\n",
    "\n",
    "status_replace = {\n",
    "    \"loan_status\" : {\n",
    "        \"Fully Paid\": 1,\n",
    "        \"Charged Off\": 0,\n",
    "    }\n",
    "}\n",
    "\n",
    "loans_2007 = loans_2007.replace(status_replace)"
   ]
  },
  {
   "cell_type": "markdown",
   "metadata": {},
   "source": [
    "\n",
    "## Removing single value columns ##"
   ]
  },
  {
   "cell_type": "code",
   "execution_count": 19,
   "metadata": {
    "collapsed": false
   },
   "outputs": [
    {
     "name": "stdout",
     "output_type": "stream",
     "text": [
      "['initial_list_status', 'collections_12_mths_ex_med', 'policy_code', 'application_type', 'acc_now_delinq', 'chargeoff_within_12_mths', 'delinq_amnt', 'tax_liens']\n"
     ]
    }
   ],
   "source": [
    "orig_columns = loans_2007.columns\n",
    "drop_columns = []\n",
    "for col in orig_columns:\n",
    "    col_series = loans_2007[col].dropna().unique()\n",
    "    if len(col_series) == 1:\n",
    "        drop_columns.append(col)\n",
    "loans_2007 = loans_2007.drop(drop_columns, axis=1)\n",
    "print(drop_columns)"
   ]
  },
  {
   "cell_type": "code",
   "execution_count": 21,
   "metadata": {
    "collapsed": false
   },
   "outputs": [],
   "source": [
    "loans_2007.to_csv(\"filtered_loans_2007.csv\")"
   ]
  },
  {
   "cell_type": "markdown",
   "metadata": {},
   "source": [
    "# Preparing features"
   ]
  },
  {
   "cell_type": "code",
   "execution_count": 22,
   "metadata": {
    "collapsed": false
   },
   "outputs": [
    {
     "name": "stdout",
     "output_type": "stream",
     "text": [
      "Unnamed: 0                0\n",
      "loan_amnt                 0\n",
      "term                      0\n",
      "int_rate                  0\n",
      "installment               0\n",
      "emp_length                0\n",
      "home_ownership            0\n",
      "annual_inc                0\n",
      "verification_status       0\n",
      "loan_status               0\n",
      "pymnt_plan                0\n",
      "purpose                   0\n",
      "title                    10\n",
      "addr_state                0\n",
      "dti                       0\n",
      "delinq_2yrs               0\n",
      "earliest_cr_line          0\n",
      "inq_last_6mths            0\n",
      "open_acc                  0\n",
      "pub_rec                   0\n",
      "revol_bal                 0\n",
      "revol_util               50\n",
      "total_acc                 0\n",
      "last_credit_pull_d        2\n",
      "pub_rec_bankruptcies    697\n",
      "dtype: int64\n"
     ]
    }
   ],
   "source": [
    "\n",
    "loans = pd.read_csv('filtered_loans_2007.csv')\n",
    "null_counts = loans.isnull().sum()\n",
    "print(null_counts)"
   ]
  },
  {
   "cell_type": "markdown",
   "metadata": {},
   "source": [
    "## Handling missing values ##"
   ]
  },
  {
   "cell_type": "code",
   "execution_count": 23,
   "metadata": {
    "collapsed": false
   },
   "outputs": [
    {
     "name": "stdout",
     "output_type": "stream",
     "text": [
      "object     12\n",
      "float64    10\n",
      "int64       2\n",
      "dtype: int64\n"
     ]
    }
   ],
   "source": [
    "loans = loans.drop(\"pub_rec_bankruptcies\", axis=1)\n",
    "loans = loans.dropna(axis=0)\n",
    "print(loans.dtypes.value_counts())"
   ]
  },
  {
   "cell_type": "markdown",
   "metadata": {},
   "source": [
    "\n",
    "## Text columns ##\n"
   ]
  },
  {
   "cell_type": "code",
   "execution_count": 24,
   "metadata": {
    "collapsed": false
   },
   "outputs": [
    {
     "name": "stdout",
     "output_type": "stream",
     "text": [
      "term                     36 months\n",
      "int_rate                    10.65%\n",
      "emp_length               10+ years\n",
      "home_ownership                RENT\n",
      "verification_status       Verified\n",
      "pymnt_plan                       n\n",
      "purpose                credit_card\n",
      "title                     Computer\n",
      "addr_state                      AZ\n",
      "earliest_cr_line          Jan-1985\n",
      "revol_util                   83.7%\n",
      "last_credit_pull_d        Sep-2016\n",
      "Name: 0, dtype: object\n"
     ]
    }
   ],
   "source": [
    "object_columns_df = loans.select_dtypes(include=[\"object\"])\n",
    "print(object_columns_df.iloc[0])"
   ]
  },
  {
   "cell_type": "markdown",
   "metadata": {},
   "source": [
    "\n",
    "##  First 5 categorical columns ##"
   ]
  },
  {
   "cell_type": "code",
   "execution_count": 25,
   "metadata": {
    "collapsed": false
   },
   "outputs": [
    {
     "name": "stdout",
     "output_type": "stream",
     "text": [
      "RENT        18677\n",
      "MORTGAGE    17381\n",
      "OWN          3020\n",
      "OTHER          96\n",
      "NONE            3\n",
      "Name: home_ownership, dtype: int64\n",
      "Not Verified       16809\n",
      "Verified           12515\n",
      "Source Verified     9853\n",
      "Name: verification_status, dtype: int64\n",
      "10+ years    8715\n",
      "< 1 year     4542\n",
      "2 years      4344\n",
      "3 years      4050\n",
      "4 years      3385\n",
      "5 years      3243\n",
      "1 year       3207\n",
      "6 years      2198\n",
      "7 years      1738\n",
      "8 years      1457\n",
      "9 years      1245\n",
      "n/a          1053\n",
      "Name: emp_length, dtype: int64\n",
      " 36 months    29041\n",
      " 60 months    10136\n",
      "Name: term, dtype: int64\n",
      "CA    7019\n",
      "NY    3757\n",
      "FL    2831\n",
      "TX    2693\n",
      "NJ    1825\n",
      "IL    1513\n",
      "PA    1493\n",
      "VA    1388\n",
      "GA    1381\n",
      "MA    1322\n",
      "OH    1197\n",
      "MD    1039\n",
      "AZ     863\n",
      "WA     830\n",
      "CO     777\n",
      "NC     772\n",
      "CT     738\n",
      "MI     718\n",
      "MO     677\n",
      "MN     608\n",
      "NV     488\n",
      "SC     469\n",
      "WI     447\n",
      "AL     441\n",
      "OR     441\n",
      "LA     432\n",
      "KY     319\n",
      "OK     294\n",
      "KS     264\n",
      "UT     255\n",
      "AR     241\n",
      "DC     211\n",
      "RI     197\n",
      "NM     187\n",
      "WV     174\n",
      "HI     170\n",
      "NH     169\n",
      "DE     113\n",
      "MT      84\n",
      "WY      83\n",
      "AK      79\n",
      "SD      61\n",
      "VT      53\n",
      "MS      19\n",
      "TN      17\n",
      "IN       9\n",
      "ID       6\n",
      "IA       5\n",
      "NE       5\n",
      "ME       3\n",
      "Name: addr_state, dtype: int64\n"
     ]
    }
   ],
   "source": [
    "cols = ['home_ownership', 'verification_status', 'emp_length', 'term', 'addr_state']\n",
    "for c in cols:\n",
    "    print(loans[c].value_counts())"
   ]
  },
  {
   "cell_type": "code",
   "execution_count": 26,
   "metadata": {
    "collapsed": false
   },
   "outputs": [
    {
     "name": "stdout",
     "output_type": "stream",
     "text": [
      "debt_consolidation    18355\n",
      "credit_card            5073\n",
      "other                  3921\n",
      "home_improvement       2944\n",
      "major_purchase         2178\n",
      "small_business         1792\n",
      "car                    1534\n",
      "wedding                 940\n",
      "medical                 688\n",
      "moving                  580\n",
      "vacation                377\n",
      "house                   372\n",
      "educational             320\n",
      "renewable_energy        103\n",
      "Name: purpose, dtype: int64\n",
      "Debt Consolidation                         2142\n",
      "Debt Consolidation Loan                    1670\n",
      "Personal Loan                               650\n",
      "Consolidation                               501\n",
      "debt consolidation                          495\n",
      "Credit Card Consolidation                   354\n",
      "Home Improvement                            350\n",
      "Debt consolidation                          331\n",
      "Small Business Loan                         317\n",
      "Credit Card Loan                            310\n",
      "Personal                                    306\n",
      "Consolidation Loan                          255\n",
      "Home Improvement Loan                       243\n",
      "personal loan                               231\n",
      "personal                                    217\n",
      "Loan                                        210\n",
      "Wedding Loan                                206\n",
      "Car Loan                                    198\n",
      "consolidation                               197\n",
      "Other Loan                                  187\n",
      "Credit Card Payoff                          153\n",
      "Wedding                                     152\n",
      "Major Purchase Loan                         144\n",
      "Credit Card Refinance                       143\n",
      "Consolidate                                 126\n",
      "Medical                                     120\n",
      "Credit Card                                 115\n",
      "home improvement                            109\n",
      "My Loan                                      94\n",
      "Credit Cards                                 92\n",
      "                                           ... \n",
      " Freedom                                      1\n",
      "Credit Card Consolidation Loan - SEG          1\n",
      "Go for Broke                                  1\n",
      "SOLAR PV                                      1\n",
      "Paying off the debt                           1\n",
      "LC Loan 2                                     1\n",
      "Payoff ING PLOC                               1\n",
      "Josh CC Loan                                  1\n",
      "House payoff                                  1\n",
      "Taking care of Business                       1\n",
      "equipment for pub                             1\n",
      " Credit Card Payment                          1\n",
      "home improv                                   1\n",
      "Credit card rate way up.  Please help!        1\n",
      "Gluten Free Bakery in ideal town for it       1\n",
      "Pay on Credit card                            1\n",
      "Startup Money for Small Business              1\n",
      "working hard to get out of debt               1\n",
      "cart loan                                     1\n",
      "Baby on the way!                              1\n",
      "Paying Off High Interest Credit Cards!        1\n",
      "2BDebtFree                                    1\n",
      "Medical/Vacation                              1\n",
      "consolidate the rest of my debt               1\n",
      "vinman                                        1\n",
      "getting ready for Baby                        1\n",
      "Cut the credit cards Loan                     1\n",
      "engagement                                    1\n",
      "swimming pool repair                          1\n",
      "Consolidaton                                  1\n",
      "Name: title, dtype: int64\n"
     ]
    }
   ],
   "source": [
    "print(loans[\"purpose\"].value_counts())\n",
    "print(loans[\"title\"].value_counts())"
   ]
  },
  {
   "cell_type": "markdown",
   "metadata": {},
   "source": [
    "## Categorical columns ##"
   ]
  },
  {
   "cell_type": "code",
   "execution_count": 27,
   "metadata": {
    "collapsed": true
   },
   "outputs": [],
   "source": [
    "mapping_dict = {\n",
    "    \"emp_length\": {\n",
    "        \"10+ years\": 10,\n",
    "        \"9 years\": 9,\n",
    "        \"8 years\": 8,\n",
    "        \"7 years\": 7,\n",
    "        \"6 years\": 6,\n",
    "        \"5 years\": 5,\n",
    "        \"4 years\": 4,\n",
    "        \"3 years\": 3,\n",
    "        \"2 years\": 2,\n",
    "        \"1 year\": 1,\n",
    "        \"< 1 year\": 0,\n",
    "        \"n/a\": 0\n",
    "    }\n",
    "}\n",
    "loans = loans.drop([\"last_credit_pull_d\", \"earliest_cr_line\", \"addr_state\", \"title\"], axis=1)\n",
    "loans[\"int_rate\"] = loans[\"int_rate\"].str.rstrip(\"%\").astype(\"float\")\n",
    "loans[\"revol_util\"] = loans[\"revol_util\"].str.rstrip(\"%\").astype(\"float\")\n",
    "loans = loans.replace(mapping_dict)"
   ]
  },
  {
   "cell_type": "markdown",
   "metadata": {},
   "source": [
    "\n",
    "## Dummy variables ##"
   ]
  },
  {
   "cell_type": "code",
   "execution_count": 28,
   "metadata": {
    "collapsed": true
   },
   "outputs": [],
   "source": [
    "cat_columns = [\"home_ownership\", \"verification_status\", \"purpose\", \"term\"]\n",
    "dummy_df = pd.get_dummies(loans[cat_columns])\n",
    "loans = pd.concat([loans, dummy_df], axis=1)\n",
    "loans = loans.drop(cat_columns, axis=1)"
   ]
  },
  {
   "cell_type": "code",
   "execution_count": 29,
   "metadata": {
    "collapsed": true
   },
   "outputs": [],
   "source": [
    "loans.to_csv(\"cleaned_loans_2007.csv\")"
   ]
  },
  {
   "cell_type": "markdown",
   "metadata": {},
   "source": [
    "# Making Predictions"
   ]
  },
  {
   "cell_type": "code",
   "execution_count": 35,
   "metadata": {
    "collapsed": false
   },
   "outputs": [
    {
     "name": "stdout",
     "output_type": "stream",
     "text": [
      "<class 'pandas.core.frame.DataFrame'>\n",
      "RangeIndex: 39177 entries, 0 to 39176\n",
      "Data columns (total 38 columns):\n",
      "loan_amnt                              39177 non-null float64\n",
      "int_rate                               39177 non-null float64\n",
      "installment                            39177 non-null float64\n",
      "emp_length                             39177 non-null int64\n",
      "annual_inc                             39177 non-null float64\n",
      "loan_status                            39177 non-null int64\n",
      "dti                                    39177 non-null float64\n",
      "delinq_2yrs                            39177 non-null float64\n",
      "inq_last_6mths                         39177 non-null float64\n",
      "open_acc                               39177 non-null float64\n",
      "pub_rec                                39177 non-null float64\n",
      "revol_bal                              39177 non-null float64\n",
      "revol_util                             39177 non-null float64\n",
      "total_acc                              39177 non-null float64\n",
      "home_ownership_MORTGAGE                39177 non-null float64\n",
      "home_ownership_NONE                    39177 non-null float64\n",
      "home_ownership_OTHER                   39177 non-null float64\n",
      "home_ownership_OWN                     39177 non-null float64\n",
      "home_ownership_RENT                    39177 non-null float64\n",
      "verification_status_Not Verified       39177 non-null float64\n",
      "verification_status_Source Verified    39177 non-null float64\n",
      "verification_status_Verified           39177 non-null float64\n",
      "purpose_car                            39177 non-null float64\n",
      "purpose_credit_card                    39177 non-null float64\n",
      "purpose_debt_consolidation             39177 non-null float64\n",
      "purpose_educational                    39177 non-null float64\n",
      "purpose_home_improvement               39177 non-null float64\n",
      "purpose_house                          39177 non-null float64\n",
      "purpose_major_purchase                 39177 non-null float64\n",
      "purpose_medical                        39177 non-null float64\n",
      "purpose_moving                         39177 non-null float64\n",
      "purpose_other                          39177 non-null float64\n",
      "purpose_renewable_energy               39177 non-null float64\n",
      "purpose_small_business                 39177 non-null float64\n",
      "purpose_vacation                       39177 non-null float64\n",
      "purpose_wedding                        39177 non-null float64\n",
      "term_ 36 months                        39177 non-null float64\n",
      "term_ 60 months                        39177 non-null float64\n",
      "dtypes: float64(36), int64(2)\n",
      "memory usage: 11.4 MB\n",
      "None\n"
     ]
    }
   ],
   "source": [
    "loans = pd.read_csv(\"cleaned_loans_2007.csv\")\n",
    "loans = loans.drop([\"Unnamed: 0\",\"Unnamed: 0.1\",\"pymnt_plan\" ], axis=1)\n",
    "print(loans.info())"
   ]
  },
  {
   "cell_type": "code",
   "execution_count": 41,
   "metadata": {
    "collapsed": false
   },
   "outputs": [
    {
     "data": {
      "text/html": [
       "<div>\n",
       "<table border=\"1\" class=\"dataframe\">\n",
       "  <thead>\n",
       "    <tr style=\"text-align: right;\">\n",
       "      <th></th>\n",
       "      <th>loan_amnt</th>\n",
       "      <th>int_rate</th>\n",
       "      <th>installment</th>\n",
       "      <th>emp_length</th>\n",
       "      <th>annual_inc</th>\n",
       "      <th>loan_status</th>\n",
       "      <th>dti</th>\n",
       "      <th>delinq_2yrs</th>\n",
       "      <th>inq_last_6mths</th>\n",
       "      <th>open_acc</th>\n",
       "      <th>...</th>\n",
       "      <th>purpose_major_purchase</th>\n",
       "      <th>purpose_medical</th>\n",
       "      <th>purpose_moving</th>\n",
       "      <th>purpose_other</th>\n",
       "      <th>purpose_renewable_energy</th>\n",
       "      <th>purpose_small_business</th>\n",
       "      <th>purpose_vacation</th>\n",
       "      <th>purpose_wedding</th>\n",
       "      <th>term_ 36 months</th>\n",
       "      <th>term_ 60 months</th>\n",
       "    </tr>\n",
       "  </thead>\n",
       "  <tbody>\n",
       "    <tr>\n",
       "      <th>count</th>\n",
       "      <td>39177.000000</td>\n",
       "      <td>39177.000000</td>\n",
       "      <td>39177.000000</td>\n",
       "      <td>39177.000000</td>\n",
       "      <td>3.917700e+04</td>\n",
       "      <td>39177.000000</td>\n",
       "      <td>39177.000000</td>\n",
       "      <td>39177.000000</td>\n",
       "      <td>39177.000000</td>\n",
       "      <td>39177.000000</td>\n",
       "      <td>...</td>\n",
       "      <td>39177.000000</td>\n",
       "      <td>39177.000000</td>\n",
       "      <td>39177.000000</td>\n",
       "      <td>39177.000000</td>\n",
       "      <td>39177.000000</td>\n",
       "      <td>39177.000000</td>\n",
       "      <td>39177.000000</td>\n",
       "      <td>39177.000000</td>\n",
       "      <td>39177.000000</td>\n",
       "      <td>39177.000000</td>\n",
       "    </tr>\n",
       "    <tr>\n",
       "      <th>mean</th>\n",
       "      <td>11143.689537</td>\n",
       "      <td>11.976177</td>\n",
       "      <td>323.514635</td>\n",
       "      <td>4.828471</td>\n",
       "      <td>6.891654e+04</td>\n",
       "      <td>0.856191</td>\n",
       "      <td>13.298736</td>\n",
       "      <td>0.146540</td>\n",
       "      <td>0.870230</td>\n",
       "      <td>9.292646</td>\n",
       "      <td>...</td>\n",
       "      <td>0.055594</td>\n",
       "      <td>0.017561</td>\n",
       "      <td>0.014805</td>\n",
       "      <td>0.100084</td>\n",
       "      <td>0.002629</td>\n",
       "      <td>0.045741</td>\n",
       "      <td>0.009623</td>\n",
       "      <td>0.023994</td>\n",
       "      <td>0.741277</td>\n",
       "      <td>0.258723</td>\n",
       "    </tr>\n",
       "    <tr>\n",
       "      <th>std</th>\n",
       "      <td>7398.202266</td>\n",
       "      <td>3.706860</td>\n",
       "      <td>208.483501</td>\n",
       "      <td>3.603729</td>\n",
       "      <td>6.400410e+04</td>\n",
       "      <td>0.350900</td>\n",
       "      <td>6.674513</td>\n",
       "      <td>0.491341</td>\n",
       "      <td>1.071069</td>\n",
       "      <td>4.400309</td>\n",
       "      <td>...</td>\n",
       "      <td>0.229139</td>\n",
       "      <td>0.131352</td>\n",
       "      <td>0.120772</td>\n",
       "      <td>0.300116</td>\n",
       "      <td>0.051208</td>\n",
       "      <td>0.208926</td>\n",
       "      <td>0.097625</td>\n",
       "      <td>0.153031</td>\n",
       "      <td>0.437939</td>\n",
       "      <td>0.437939</td>\n",
       "    </tr>\n",
       "    <tr>\n",
       "      <th>min</th>\n",
       "      <td>500.000000</td>\n",
       "      <td>5.420000</td>\n",
       "      <td>15.690000</td>\n",
       "      <td>0.000000</td>\n",
       "      <td>4.000000e+03</td>\n",
       "      <td>0.000000</td>\n",
       "      <td>0.000000</td>\n",
       "      <td>0.000000</td>\n",
       "      <td>0.000000</td>\n",
       "      <td>2.000000</td>\n",
       "      <td>...</td>\n",
       "      <td>0.000000</td>\n",
       "      <td>0.000000</td>\n",
       "      <td>0.000000</td>\n",
       "      <td>0.000000</td>\n",
       "      <td>0.000000</td>\n",
       "      <td>0.000000</td>\n",
       "      <td>0.000000</td>\n",
       "      <td>0.000000</td>\n",
       "      <td>0.000000</td>\n",
       "      <td>0.000000</td>\n",
       "    </tr>\n",
       "    <tr>\n",
       "      <th>25%</th>\n",
       "      <td>5425.000000</td>\n",
       "      <td>8.940000</td>\n",
       "      <td>166.500000</td>\n",
       "      <td>2.000000</td>\n",
       "      <td>4.020000e+04</td>\n",
       "      <td>1.000000</td>\n",
       "      <td>8.160000</td>\n",
       "      <td>0.000000</td>\n",
       "      <td>0.000000</td>\n",
       "      <td>6.000000</td>\n",
       "      <td>...</td>\n",
       "      <td>0.000000</td>\n",
       "      <td>0.000000</td>\n",
       "      <td>0.000000</td>\n",
       "      <td>0.000000</td>\n",
       "      <td>0.000000</td>\n",
       "      <td>0.000000</td>\n",
       "      <td>0.000000</td>\n",
       "      <td>0.000000</td>\n",
       "      <td>0.000000</td>\n",
       "      <td>0.000000</td>\n",
       "    </tr>\n",
       "    <tr>\n",
       "      <th>50%</th>\n",
       "      <td>10000.000000</td>\n",
       "      <td>11.830000</td>\n",
       "      <td>279.160000</td>\n",
       "      <td>4.000000</td>\n",
       "      <td>5.900000e+04</td>\n",
       "      <td>1.000000</td>\n",
       "      <td>13.390000</td>\n",
       "      <td>0.000000</td>\n",
       "      <td>1.000000</td>\n",
       "      <td>9.000000</td>\n",
       "      <td>...</td>\n",
       "      <td>0.000000</td>\n",
       "      <td>0.000000</td>\n",
       "      <td>0.000000</td>\n",
       "      <td>0.000000</td>\n",
       "      <td>0.000000</td>\n",
       "      <td>0.000000</td>\n",
       "      <td>0.000000</td>\n",
       "      <td>0.000000</td>\n",
       "      <td>1.000000</td>\n",
       "      <td>0.000000</td>\n",
       "    </tr>\n",
       "    <tr>\n",
       "      <th>75%</th>\n",
       "      <td>15000.000000</td>\n",
       "      <td>14.460000</td>\n",
       "      <td>428.030000</td>\n",
       "      <td>9.000000</td>\n",
       "      <td>8.200000e+04</td>\n",
       "      <td>1.000000</td>\n",
       "      <td>18.580000</td>\n",
       "      <td>0.000000</td>\n",
       "      <td>1.000000</td>\n",
       "      <td>12.000000</td>\n",
       "      <td>...</td>\n",
       "      <td>0.000000</td>\n",
       "      <td>0.000000</td>\n",
       "      <td>0.000000</td>\n",
       "      <td>0.000000</td>\n",
       "      <td>0.000000</td>\n",
       "      <td>0.000000</td>\n",
       "      <td>0.000000</td>\n",
       "      <td>0.000000</td>\n",
       "      <td>1.000000</td>\n",
       "      <td>1.000000</td>\n",
       "    </tr>\n",
       "    <tr>\n",
       "      <th>max</th>\n",
       "      <td>35000.000000</td>\n",
       "      <td>24.590000</td>\n",
       "      <td>1305.190000</td>\n",
       "      <td>10.000000</td>\n",
       "      <td>6.000000e+06</td>\n",
       "      <td>1.000000</td>\n",
       "      <td>29.990000</td>\n",
       "      <td>11.000000</td>\n",
       "      <td>8.000000</td>\n",
       "      <td>44.000000</td>\n",
       "      <td>...</td>\n",
       "      <td>1.000000</td>\n",
       "      <td>1.000000</td>\n",
       "      <td>1.000000</td>\n",
       "      <td>1.000000</td>\n",
       "      <td>1.000000</td>\n",
       "      <td>1.000000</td>\n",
       "      <td>1.000000</td>\n",
       "      <td>1.000000</td>\n",
       "      <td>1.000000</td>\n",
       "      <td>1.000000</td>\n",
       "    </tr>\n",
       "  </tbody>\n",
       "</table>\n",
       "<p>8 rows × 38 columns</p>\n",
       "</div>"
      ],
      "text/plain": [
       "          loan_amnt      int_rate   installment    emp_length    annual_inc  \\\n",
       "count  39177.000000  39177.000000  39177.000000  39177.000000  3.917700e+04   \n",
       "mean   11143.689537     11.976177    323.514635      4.828471  6.891654e+04   \n",
       "std     7398.202266      3.706860    208.483501      3.603729  6.400410e+04   \n",
       "min      500.000000      5.420000     15.690000      0.000000  4.000000e+03   \n",
       "25%     5425.000000      8.940000    166.500000      2.000000  4.020000e+04   \n",
       "50%    10000.000000     11.830000    279.160000      4.000000  5.900000e+04   \n",
       "75%    15000.000000     14.460000    428.030000      9.000000  8.200000e+04   \n",
       "max    35000.000000     24.590000   1305.190000     10.000000  6.000000e+06   \n",
       "\n",
       "        loan_status           dti   delinq_2yrs  inq_last_6mths      open_acc  \\\n",
       "count  39177.000000  39177.000000  39177.000000    39177.000000  39177.000000   \n",
       "mean       0.856191     13.298736      0.146540        0.870230      9.292646   \n",
       "std        0.350900      6.674513      0.491341        1.071069      4.400309   \n",
       "min        0.000000      0.000000      0.000000        0.000000      2.000000   \n",
       "25%        1.000000      8.160000      0.000000        0.000000      6.000000   \n",
       "50%        1.000000     13.390000      0.000000        1.000000      9.000000   \n",
       "75%        1.000000     18.580000      0.000000        1.000000     12.000000   \n",
       "max        1.000000     29.990000     11.000000        8.000000     44.000000   \n",
       "\n",
       "            ...         purpose_major_purchase  purpose_medical  \\\n",
       "count       ...                   39177.000000     39177.000000   \n",
       "mean        ...                       0.055594         0.017561   \n",
       "std         ...                       0.229139         0.131352   \n",
       "min         ...                       0.000000         0.000000   \n",
       "25%         ...                       0.000000         0.000000   \n",
       "50%         ...                       0.000000         0.000000   \n",
       "75%         ...                       0.000000         0.000000   \n",
       "max         ...                       1.000000         1.000000   \n",
       "\n",
       "       purpose_moving  purpose_other  purpose_renewable_energy  \\\n",
       "count    39177.000000   39177.000000              39177.000000   \n",
       "mean         0.014805       0.100084                  0.002629   \n",
       "std          0.120772       0.300116                  0.051208   \n",
       "min          0.000000       0.000000                  0.000000   \n",
       "25%          0.000000       0.000000                  0.000000   \n",
       "50%          0.000000       0.000000                  0.000000   \n",
       "75%          0.000000       0.000000                  0.000000   \n",
       "max          1.000000       1.000000                  1.000000   \n",
       "\n",
       "       purpose_small_business  purpose_vacation  purpose_wedding  \\\n",
       "count            39177.000000      39177.000000     39177.000000   \n",
       "mean                 0.045741          0.009623         0.023994   \n",
       "std                  0.208926          0.097625         0.153031   \n",
       "min                  0.000000          0.000000         0.000000   \n",
       "25%                  0.000000          0.000000         0.000000   \n",
       "50%                  0.000000          0.000000         0.000000   \n",
       "75%                  0.000000          0.000000         0.000000   \n",
       "max                  1.000000          1.000000         1.000000   \n",
       "\n",
       "       term_ 36 months  term_ 60 months  \n",
       "count     39177.000000     39177.000000  \n",
       "mean          0.741277         0.258723  \n",
       "std           0.437939         0.437939  \n",
       "min           0.000000         0.000000  \n",
       "25%           0.000000         0.000000  \n",
       "50%           1.000000         0.000000  \n",
       "75%           1.000000         1.000000  \n",
       "max           1.000000         1.000000  \n",
       "\n",
       "[8 rows x 38 columns]"
      ]
     },
     "execution_count": 41,
     "metadata": {},
     "output_type": "execute_result"
    }
   ],
   "source": [
    "loans.describe()"
   ]
  },
  {
   "cell_type": "markdown",
   "metadata": {},
   "source": [
    "# Picking Error metrics"
   ]
  },
  {
   "cell_type": "markdown",
   "metadata": {},
   "source": [
    "###  Our objective in this is to make money -- we want to fund enough loans that are paid off on time to offset our losses from loans that aren't paid off. An error metric will help us determine if our algorithm will make us money or lose us money.\n"
   ]
  },
  {
   "cell_type": "markdown",
   "metadata": {},
   "source": [
    "###  In this case, we're primarily concerned with false positives and false negatives. Both of these are different types of misclassifications. With a false positive, we predict that a loan will be paid off on time, but it actually isn't. This costs us money, since we fund loans that lose us money. With a false negative, we predict that a loan won't be paid off on time, but it actually would be paid off on time. This loses us potential money, since we didn't fund a loan that actually would have been paid off."
   ]
  },
  {
   "cell_type": "code",
   "execution_count": 99,
   "metadata": {
    "collapsed": true
   },
   "outputs": [],
   "source": [
    "def error_metrics(predictions):\n",
    "    predictions_dataframe=pd.DataFrame(predictions)\n",
    "\n",
    "    # False positives.\n",
    "    fp_filter = (predictions == 1) & (loans[\"loan_status\"] == 0)\n",
    "    fp = len(predictions_dataframe[fp_filter])\n",
    "\n",
    "    # True positives.\n",
    "    tp_filter = (predictions == 1) & (loans[\"loan_status\"] == 1)\n",
    "    tp = len(predictions_dataframe[tp_filter])\n",
    "\n",
    "    # False negatives.\n",
    "    fn_filter = (predictions == 0) & (loans[\"loan_status\"] == 1)\n",
    "    fn = len(predictions_dataframe[fn_filter])\n",
    "\n",
    "    # True negatives\n",
    "    tn_filter = (predictions == 0) & (loans[\"loan_status\"] == 0)\n",
    "    tn = len(predictions_dataframe[tn_filter])\n",
    "\n",
    "    # Rates\n",
    "    tpr = float(tp) /float(tp + fn)\n",
    "    fpr = float(fp) / float(fp + tn)\n",
    "    print(tp,fp,tn,fn)\n",
    "    print(tpr)\n",
    "    print(fpr)\n"
   ]
  },
  {
   "cell_type": "markdown",
   "metadata": {},
   "source": [
    "# Logistic Regression ##"
   ]
  },
  {
   "cell_type": "code",
   "execution_count": 98,
   "metadata": {
    "collapsed": false
   },
   "outputs": [
    {
     "name": "stdout",
     "output_type": "stream",
     "text": [
      "(33507, 5618, 16, 36)\n",
      "0.998926750738\n",
      "0.997160099397\n"
     ]
    }
   ],
   "source": [
    "\n",
    "lr = LogisticRegression()\n",
    "cols = loans.columns\n",
    "train_cols = cols.drop(\"loan_status\")\n",
    "features = loans[train_cols]\n",
    "target = loans[\"loan_status\"]\n",
    "lr.fit(features, target)\n",
    "predictions = lr.predict(features)\n",
    "error_metrics(predictions)"
   ]
  },
  {
   "cell_type": "markdown",
   "metadata": {},
   "source": [
    "\n",
    "## Cross Validation \n"
   ]
  },
  {
   "cell_type": "markdown",
   "metadata": {},
   "source": [
    "###  Cross validation splits the dataset into groups, then makes predictions on each group using the other groups as training data. This ensures that we don't overfit by generating predictions on the same data that we train our algorithm with."
   ]
  },
  {
   "cell_type": "markdown",
   "metadata": {},
   "source": [
    "### We'll create an instance of KFold, which will perform 3 fold cross validation across our dataset. We set random_state to 1 to ensure that the folds are always consistent, and we can compare scores between runs. If we don't, each fold will be randomized every time, making it hard to tell if we're improving our model or not.\n",
    "\n"
   ]
  },
  {
   "cell_type": "markdown",
   "metadata": {},
   "source": [
    "### If we pass the instance of KFold into cross_val_predict, it will then perform 3 fold cross validation to generate unbiased predictions.\n",
    "\n"
   ]
  },
  {
   "cell_type": "markdown",
   "metadata": {},
   "source": [
    "### Once we have cross validated predictions, we can compute true positive rate and false positive rate."
   ]
  },
  {
   "cell_type": "code",
   "execution_count": 97,
   "metadata": {
    "collapsed": false
   },
   "outputs": [
    {
     "name": "stdout",
     "output_type": "stream",
     "text": [
      "(33512, 5618, 16, 31)\n",
      "0.999075813135\n",
      "0.997160099397\n"
     ]
    }
   ],
   "source": [
    "\n",
    "lr = LogisticRegression()\n",
    "kf = KFold(features.shape[0], random_state=1)\n",
    "predictions = cross_val_predict(lr, features, target, cv=kf)\n",
    "predictions = pd.Series(predictions)\n",
    "error_metrics(predictions)"
   ]
  },
  {
   "cell_type": "markdown",
   "metadata": {},
   "source": [
    "## Penalizing the classifier ##"
   ]
  },
  {
   "cell_type": "markdown",
   "metadata": {},
   "source": [
    "### The penalty means that the logistic regression classifier pays more attention to correctly classifying rows where loan_status is 0. This lowers accuracy when loan_status is 1, but raises accuracy when loan_status is 0.\n",
    "\n"
   ]
  },
  {
   "cell_type": "markdown",
   "metadata": {},
   "source": [
    "### By setting the class_weight parameter to balanced, the penalty is set to be inversely proportional to the class frequencies. You can read more about the parameter here. This would mean that for the classifier, correctly classifying a row where loan_status is 0 is 6 times more important than correctly classifying a row where loan_status is 1."
   ]
  },
  {
   "cell_type": "code",
   "execution_count": 96,
   "metadata": {
    "collapsed": false
   },
   "outputs": [
    {
     "name": "stdout",
     "output_type": "stream",
     "text": [
      "(22266, 2218, 3416, 11277)\n",
      "0.663804668634\n",
      "0.393681221157\n"
     ]
    }
   ],
   "source": [
    "lr = LogisticRegression(class_weight=\"balanced\")\n",
    "kf = KFold(features.shape[0], random_state=1)\n",
    "predictions = cross_val_predict(lr, features, target, cv=kf)\n",
    "predictions = pd.Series(predictions)\n",
    "error_metrics(predictions)\n"
   ]
  },
  {
   "cell_type": "markdown",
   "metadata": {},
   "source": [
    "## Manual penalties ##"
   ]
  },
  {
   "cell_type": "markdown",
   "metadata": {},
   "source": [
    "### We significantly improved false positive rate in the last model by balancing the classes, which reduced true positive rate. Our true positive rate is now around 67%, and our false positive rate is around 40%. From a conservative investor's standpoint, it's reassuring that the false positive rate is lower because it means that we'll be able to do a better job at avoiding bad loans than if we funded everything. However, we'd only ever decide to fund 67% of the total loans (true positive rate), so we'd immediately reject a good amount of loans.\n",
    "\n",
    "\n",
    "\n",
    "\n",
    "\n",
    "\n"
   ]
  },
  {
   "cell_type": "markdown",
   "metadata": {},
   "source": [
    "### In the last model, the penalty scikit-learn imposed for misclassifying a 0 would have been around 5.89 (since there are 5.89 times as many 1s as 0s).We can try to lower the false positive rate further by assigning a harsher penalty for misclassifying the negative class. While setting class_weight to balanced will automatically set a penalty based on the number of 1s and 0s in the column, we can also set a manual penalty. "
   ]
  },
  {
   "cell_type": "code",
   "execution_count": 95,
   "metadata": {
    "collapsed": false
   },
   "outputs": [
    {
     "name": "stdout",
     "output_type": "stream",
     "text": [
      "(7879, 476, 5158, 25664)\n",
      "0.234892526011\n",
      "0.0844870429535\n"
     ]
    }
   ],
   "source": [
    "penalty = {\n",
    "    0: 10,\n",
    "    1: 1\n",
    "}\n",
    "# The above dictionary will impose a penalty of 10 for misclassifying a 0, and a penalty of 1 for misclassifying a 1\n",
    "lr = LogisticRegression(class_weight=penalty)\n",
    "kf = KFold(features.shape[0], random_state=1)\n",
    "predictions = cross_val_predict(lr, features, target, cv=kf)\n",
    "predictions = pd.Series(predictions)\n",
    "error_metrics(predictions)\n"
   ]
  },
  {
   "cell_type": "markdown",
   "metadata": {},
   "source": [
    "###  Assigning manual penalties lowered the false positive rate to 7%, and thus lowered our risk. But this comes at the expense of true positive rate. While we have fewer false positives, we're also missing opportunities to fund more loans and potentially make more money. For a conservative investor, this strategy makes sense, but it's worth keeping in mind the tradeoffs."
   ]
  },
  {
   "cell_type": "markdown",
   "metadata": {},
   "source": [
    "## Random forests ##"
   ]
  },
  {
   "cell_type": "code",
   "execution_count": 94,
   "metadata": {
    "collapsed": false
   },
   "outputs": [
    {
     "name": "stdout",
     "output_type": "stream",
     "text": [
      "(32658, 5312, 322, 885)\n",
      "0.973615955639\n",
      "0.942847000355\n"
     ]
    }
   ],
   "source": [
    "rf = RandomForestClassifier(class_weight=\"balanced\", random_state=1)\n",
    "kf = KFold(features.shape[0], random_state=1)\n",
    "predictions = cross_val_predict(rf, features, target, cv=kf)\n",
    "predictions = pd.Series(predictions)\n",
    "error_metrics(predictions)\n",
    "\n",
    "\n"
   ]
  },
  {
   "cell_type": "code",
   "execution_count": 102,
   "metadata": {
    "collapsed": false
   },
   "outputs": [
    {
     "name": "stdout",
     "output_type": "stream",
     "text": [
      "(32810, 5317, 317, 733)\n",
      "0.978147452524\n",
      "0.943734469294\n"
     ]
    }
   ],
   "source": [
    "penalty = {\n",
    "    0: 10,\n",
    "    1: 1\n",
    "}\n",
    "# The above dictionary will impose a penalty of 10 for misclassifying a 0, and a penalty of 1 for misclassifying a 1\n",
    "rf = RandomForestClassifier(class_weight=penalty,random_state=1)\n",
    "kf = KFold(features.shape[0], random_state=1)\n",
    "predictions = cross_val_predict(rf, features, target, cv=kf)\n",
    "predictions = pd.Series(predictions)\n",
    "error_metrics(predictions)"
   ]
  },
  {
   "cell_type": "markdown",
   "metadata": {},
   "source": [
    "### Ultimately, our best model had a false positive rate of 8.4%, and a true positive rate of 23.4%. For a conservative investor, this means that they make money as long as the interest rate is high enough to offset the losses from 7% of borrowers defaulting, and that the pool of 23.4% of borrowers is large enough to make enough interest money to offset the losses.\n",
    "\n"
   ]
  },
  {
   "cell_type": "markdown",
   "metadata": {},
   "source": [
    "### If we had randomly picked loans to fund, borrowers would have defaulted on 14.5% of them, and our model is better than that, although we're excluding more loans than a random strategy would. "
   ]
  }
 ],
 "metadata": {
  "kernelspec": {
   "display_name": "Python [Root]",
   "language": "python",
   "name": "Python [Root]"
  },
  "language_info": {
   "codemirror_mode": {
    "name": "ipython",
    "version": 2
   },
   "file_extension": ".py",
   "mimetype": "text/x-python",
   "name": "python",
   "nbconvert_exporter": "python",
   "pygments_lexer": "ipython2",
   "version": "2.7.12"
  }
 },
 "nbformat": 4,
 "nbformat_minor": 0
}
